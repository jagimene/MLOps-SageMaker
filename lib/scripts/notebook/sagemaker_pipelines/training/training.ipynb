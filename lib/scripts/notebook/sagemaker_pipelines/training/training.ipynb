{
 "cells": [
  {
   "cell_type": "markdown",
   "metadata": {},
   "source": [
    "# Entrenamiento del modelo"
   ]
  },
  {
   "cell_type": "markdown",
   "metadata": {},
   "source": [
    "Una vez que tenemos nuestro conjunto de datos listo para ser utilizado para entrenar un modelo, podemos utilizar SageMaker para en esta ocasión crear un Job de entrenamiento. Básicamente utilizaremos la misma lógica del Jupyter Notebook descargado en la Introducción , es decir, entrenaremos tres distintos modelos utilizando los algoritmos del **Framework Scikit-learn: Gradient Boosting, Extra Trees y Random Forest**"
   ]
  },
  {
   "cell_type": "markdown",
   "metadata": {},
   "source": [
    "### Como funcionan los Jobs de entrenamiento en SageMaker"
   ]
  },
  {
   "cell_type": "markdown",
   "metadata": {},
   "source": [
    "![architecture](img/sagemaker-architecture-training-2.png)"
   ]
  },
  {
   "cell_type": "markdown",
   "metadata": {},
   "source": [
    "Para entrenar un modelo en **Amazon SageMaker**, se debe crear un job de entrenamiento con la siguiente información:\n",
    "\n",
    "*   La URL del _bucket_ de **Amazon S3** en dónde se encuentran los datos que serán utilizados para el entrenamiento\n",
    "*   Los recursos de cómputo que queremos que **Amazon SageMaker** utilice para el entrenamiento del modelo. Los recursos de cómputo son instancias para Machine Learning administradas por **Amazon SageMaker**\n",
    "*   La URL del bucket de **Amazon S3** en el cual queremos que se guarde el resultado del proceso de entrenamiento\n",
    "*   La ruta de **Amazon Elastic Container Registry** en dónde el código de entrenamiento está almacenado. Para conocer más acerca de las rutas de los algoritmos incluidos en **Amazon SageMaker** consultar la [documentación](https://docs.aws.amazon.com/sagemaker/latest/dg/sagemaker-algo-docker-registry-paths.html)\n",
    "\n",
    "Existen las siguientes alternativas para entrenar un modelo utilizando **Amazon SageMaker**:\n",
    "\n",
    "*   **Utilizar un algoritmo incluido en Amazon SageMaker** - si alguno de estos cubre tus necesidades, basta con proporcionarle los datos e hiperpárametros que este require. Para obtener una lista de los algoritmos incluidos consultar la [documentación](https://docs.aws.amazon.com/sagemaker/latest/dg/algos.html)\n",
    "    \n",
    "*   **Utilizar tu propio código de entrenamiento con algún framework soportado por Amazon SageMaker** - los frameworks soportados son: TensorFlow, Pytorch, MXNet, Chainer, Scikit-learn y la biblioteca XGBoost\n",
    "    \n",
    "*   **Utilizar tu propio algoritmo** - colocando tu código en una imagen **Docker** con todas las dependencias necesarias. Para mayor información consultar la [documentación](https://docs.aws.amazon.com/sagemaker/latest/dg/your-algorithms.html)\n",
    "    \n",
    "*   **Utilizar algún algoritmo mediante una suscripción a través de AWS Marketplace** - para mayor información acerca de como funcionan de estas suscripciones consultar la [documentación](https://docs.aws.amazon.com/sagemaker/latest/dg/sagemaker-mkt-find-subscribe.html)\n",
    "    \n",
    "\n",
    "En este taller utilizaremos la **tercer opción creando nuestro propio contenedor** con todas las dependencias necesarias para poder ejecutar el código proporcionado en el Jupyter Notebook descargado en la sección Introducción\n",
    "\n",
    "Una vez creado el proceso de entrenamiento, **Amazon SageMaker** lanza las instancias de cómputo para Machine Learning especificadas y utiliza el código de entrenamiento y dataset de entrenamiento para entrenar el modelo. Al final guarda los artefactos del modelo resultante en el _bucket_ de **Amazon S3** especificado."
   ]
  },
  {
   "cell_type": "code",
   "execution_count": 32,
   "metadata": {},
   "outputs": [],
   "source": [
    "import os\n",
    "import datetime\n",
    "import sagemaker\n",
    "import sagemaker_utils\n",
    "import numpy as np\n",
    "import matplotlib.pyplot as plt\n",
    "from time import gmtime, strftime\n",
    "from sklearn.metrics import confusion_matrix\n",
    "from sagemaker import Session, get_execution_role\n",
    "from sagemaker.estimator import Estimator\n",
    "from sagemaker.processing import Processor, ProcessingInput, ProcessingOutput\n",
    "from sagemaker.tuner import HyperparameterTuner, ContinuousParameter, IntegerParameter, CategoricalParameter\n",
    "from sagemaker.inputs import TrainingInput, CreateModelInput, TransformInput\n",
    "from sagemaker.workflow.steps import ProcessingStep, TrainingStep, CreateModelStep, TransformStep\n",
    "from sagemaker.workflow.parameters import ParameterString, ParameterFloat\n",
    "from sagemaker.workflow.pipeline import Pipeline\n",
    "from sagemaker.workflow.properties import PropertyFile\n",
    "from sagemaker.model_metrics import MetricsSource, ModelMetrics\n",
    "from sagemaker.workflow.step_collections import RegisterModel\n",
    "from sagemaker.workflow.conditions import ConditionGreaterThanOrEqualTo\n",
    "from sagemaker.workflow.condition_step import ConditionStep\n",
    "from sagemaker.workflow.functions import JsonGet\n",
    "\n",
    "sagemaker.__version__\n",
    "session = Session()\n",
    "#sagemaker_role = get_execution_role()\n",
    "\n",
    "data_file = 'Data sets/churn.txt'\n",
    "\n",
    "region = session.boto_region_name\n",
    "account_id = session.account_id()\n",
    "bucket = session.default_bucket()\n",
    "\n",
    "prefix = 'churn-clf'\n",
    "datasets_prefix = f'{prefix}/datasets'\n",
    "processed_data_prefix = f'{prefix}/processed'\n",
    "eval_prefix = f'{prefix}/eval'\n",
    "transformed_data_prefix = f'{prefix}/transformed'\n",
    "images_directory = f'{prefix}/images'\n",
    "code_prefix = f'{prefix}/code'\n",
    "model_prefix = f'{prefix}/models'\n",
    "\n",
    "#processing\n",
    "train_data_file = 'train_data.csv'\n",
    "train_target_file = 'train_target.csv'\n",
    "test_data_file = 'test_data.csv'\n",
    "test_target_file = 'test_target.csv'\n",
    "encoder_file = 'encoder.pkl'\n"
   ]
  },
  {
   "cell_type": "markdown",
   "metadata": {},
   "source": [
    "Script para entrenamiento\n",
    "=========================\n",
    "\n",
    "En lugar de crear tres scripts distintos para cada algoritmo, crearemos uno sólo el cual a partir de los parámetros recibidos, entrenará el modelo con el algoritmo indicado. Utilizaremos la misma técnica de k-fold Cross-Validation utilizada en el Jupyter Notebook descargado de [Introducción](/sagemaker/intro/) .\n",
    "\n",
    "Adicionalmente, este script nos servirá no solamente para el entrenamiento sino también para el despliegue posterior de nuestro modelo.\n",
    "\n",
    "Creamos el archivo `train_and_serve.py` utilizando el siguiente código:"
   ]
  },
  {
   "cell_type": "code",
   "execution_count": 2,
   "metadata": {},
   "outputs": [],
   "source": [
    "training_script_file = 'code/train_and_serve.py'"
   ]
  },
  {
   "cell_type": "code",
   "execution_count": 5,
   "metadata": {},
   "outputs": [
    {
     "name": "stdout",
     "output_type": "stream",
     "text": [
      "Writing code/train_and_serve.py\n"
     ]
    }
   ],
   "source": [
    "%%writefile $training_script_file\n",
    "import argparse\n",
    "import pickle\n",
    "import os\n",
    "import io\n",
    "import json\n",
    "import pandas as pd\n",
    "import numpy as np\n",
    "from sklearn.model_selection import cross_validate, StratifiedKFold\n",
    "from sklearn.ensemble import GradientBoostingClassifier\n",
    "from sklearn.ensemble import RandomForestClassifier\n",
    "from sklearn.ensemble import ExtraTreesClassifier\n",
    "\n",
    "# Carga el modelo en memoria\n",
    "def model_fn(model_dir):\n",
    "    print('Cargando modelo: model_fn')\n",
    "    clf = read_pkl(os.path.join(model_dir, \"model.pkl\"))\n",
    "    return clf\n",
    "\n",
    "# Deserealiza el body de la petición para poder generar las predicciones\n",
    "def input_fn(request_body, request_content_type):\n",
    "\n",
    "    if request_content_type == 'application/json':\n",
    "        input_data = json.loads(request_body)\n",
    "        input_data = pd.DataFrame.from_dict(input_data)\n",
    "        # TODO: Es importante asegurarse de que las columnas se encuentran en el orden adecuado\n",
    "        return input_data\n",
    "        \n",
    "    elif request_content_type == 'text/csv':      \n",
    "        input_data = io.StringIO(request_body)        \n",
    "        return pd.read_csv(input_data, header=None)\n",
    "    else:\n",
    "        raise ValueError(\"El endpoint del modelo solamente soporta Content-Types: 'application/json' o 'text/csv' como entrada\")\n",
    "                \n",
    "# Genera la predicción sobre el objeto deserializado, con el modelo previamente cargado en memoria\n",
    "def predict_fn(input_data, model):\n",
    "    predict_proba = getattr(model, 'predict_proba', None)\n",
    "    if callable(predict_proba):\n",
    "        return predict_proba(input_data)[:, 1]\n",
    "    else:\n",
    "        return model.predict(input_data)\n",
    "\n",
    "# Serializa el resultado de la predicción al correspondiente content type deseado\n",
    "def output_fn(predictions, response_content_type):\n",
    "    if response_content_type == 'application/json':        \n",
    "        return json.dumps(predictions.tolist())\n",
    "    elif response_content_type == 'text/csv':\n",
    "        predictions_response = io.StringIO()\n",
    "        np.savetxt(predictions_response, predictions, delimiter=',')\n",
    "        return predictions_response.getvalue()\n",
    "    else:\n",
    "        raise ValueError(\"El endpoint del modelo solamente soporta Content-Types: 'application/json' o 'text/csv' como respuesta\")        \n",
    "        \n",
    "def read_pkl(file):\n",
    "    with open(file, 'rb') as f:\n",
    "        return pickle.load(f)\n",
    "    \n",
    "def to_pkl(data, file):\n",
    "    with open(file, 'wb') as f:\n",
    "        pickle.dump(data, f)\n",
    "\n",
    "def random_forest(**hyperparameters):\n",
    "    return RandomForestClassifier(n_jobs=-1, \n",
    "                                  min_samples_split=hyperparameters['min_samples_split'],\n",
    "                                  n_estimators=hyperparameters['n_estimators'],\n",
    "                                  max_depth=hyperparameters['max_depth'],\n",
    "                                  max_features=hyperparameters['max_features'])\n",
    "\n",
    "def gradient_boosting(**hyperparameters):\n",
    "    return GradientBoostingClassifier(learning_rate=hyperparameters['learning_rate'],\n",
    "                                      min_samples_split=hyperparameters['min_samples_split'],\n",
    "                                      n_estimators=hyperparameters['n_estimators'],\n",
    "                                      max_depth=hyperparameters['max_depth'],\n",
    "                                      max_features=hyperparameters['max_features'])\n",
    "\n",
    "def extra_trees(**hyperparameters):\n",
    "    return ExtraTreesClassifier(n_jobs=-1, \n",
    "                                min_samples_split=hyperparameters['min_samples_split'],\n",
    "                                n_estimators=hyperparameters['n_estimators'],\n",
    "                                max_depth=hyperparameters['max_depth'],\n",
    "                                max_features=hyperparameters['max_features'])\n",
    "\n",
    "def invalid_algorithm(**hyperparameters):\n",
    "    raise Exception('Invalid Algorithm')\n",
    "    \n",
    "def algorithm_selector(algorithm, **hyperparameters):\n",
    "    algorithms = {\n",
    "        'RandomForest': random_forest,\n",
    "        'GradientBoosting': gradient_boosting,\n",
    "        'ExtraTrees': extra_trees\n",
    "    }\n",
    "    \n",
    "    clf = algorithms.get(algorithm, invalid_algorithm)    \n",
    "    return clf(**hyperparameters)\n",
    "\n",
    "\n",
    "if __name__=='__main__':\n",
    "    script_name = os.path.basename(__file__)\n",
    "    print(f'INFO: {script_name}: Iniciando entrenamiento del modelo')\n",
    "    \n",
    "    parser = argparse.ArgumentParser()\n",
    "    \n",
    "    parser.add_argument('--output-data-dir', type=str, default=os.environ.get('SM_OUTPUT_DATA_DIR'))\n",
    "    parser.add_argument('--model-dir', type=str, default=os.environ.get('SM_MODEL_DIR'))\n",
    "    parser.add_argument('--train-data', type=str, default=os.environ.get('SM_CHANNEL_TRAIN_DATA'))\n",
    "    parser.add_argument('--train-target', type=str, default=os.environ.get('SM_CHANNEL_TRAIN_TARGET'))\n",
    "    \n",
    "    parser.add_argument('--algorithm', type=str)\n",
    "    parser.add_argument('--splits', type=int, default=10)\n",
    "    parser.add_argument('--target-metric', type=str)\n",
    "    \n",
    "    parser.add_argument('--learning-rate', type=float)\n",
    "    parser.add_argument('--min-samples-split', type=int)\n",
    "    parser.add_argument('--n-estimators', type=int)\n",
    "    parser.add_argument('--max-depth', type=int)\n",
    "    parser.add_argument('--max-features', type=int)\n",
    "    \n",
    "            \n",
    "    args, _ = parser.parse_known_args()\n",
    "    \n",
    "    print(f'INFO: {script_name}: Parametros recibidos: {args}')\n",
    "\n",
    "    # Cargar datasets\n",
    "    files = os.listdir(args.train_data)\n",
    "    if len(files) == 1:\n",
    "        train_data = pd.read_csv(os.path.join(args.train_data, files[0]))\n",
    "    else:\n",
    "        raise Exception('Mas de un archivo recibido para el channel Data')\n",
    "    \n",
    "    files = os.listdir(args.train_target)\n",
    "    if len(files) == 1:\n",
    "        train_target = pd.read_csv(os.path.join(args.train_target, files[0]))\n",
    "        train_target = train_target['Churn'].tolist()\n",
    "    else:\n",
    "        raise Exception('Mas de un archivo recibido para el channel Target')\n",
    "     \n",
    "    clf = algorithm_selector(args.algorithm, \n",
    "                             learning_rate=args.learning_rate,\n",
    "                             min_samples_split=args.min_samples_split,\n",
    "                             n_estimators=args.n_estimators,\n",
    "                             max_depth=args.max_depth,\n",
    "                             max_features=args.max_features)\n",
    "    \n",
    "    skf = StratifiedKFold(n_splits=args.splits)    \n",
    "    cv_scores = cross_validate(clf, train_data, train_target, cv=skf, scoring=args.target_metric, n_jobs=-1)\n",
    "    print('{} = {}%'.format(args.target_metric, cv_scores['test_score'].mean().round(4)*100))\n",
    "    \n",
    "    # Entrenar el modelo\n",
    "    clf.fit(train_data, train_target) \n",
    "    \n",
    "    # Guardar modelo\n",
    "    to_pkl(clf, os.path.join(args.model_dir, 'model.pkl'))\n",
    "\n",
    "    print(f'INFO: {script_name}: Finalizando el entrenamiento del modelo')   \n",
    "\n"
   ]
  },
  {
   "cell_type": "markdown",
   "metadata": {},
   "source": [
    "Empaquetamos el script en un archvio `.tar.gz` y lo subimos a un bucket de **Amazon S3** para poder utilizarlo en el job de entrenamiento y posteriormente para el despliegue del modelo."
   ]
  },
  {
   "cell_type": "code",
   "execution_count": 6,
   "metadata": {},
   "outputs": [
    {
     "name": "stderr",
     "output_type": "stream",
     "text": [
      "Uploading: 100%|██████████| 2.06k/2.06k [00:01<00:00, 1.94kB/s]\n"
     ]
    }
   ],
   "source": [
    "training_script_tar_file = os.path.join('code',os.path.splitext(os.path.basename(training_script_file))[0] + '.tar.gz')\n",
    "\n",
    "sagemaker_utils.create_tar_gz(training_script_file, training_script_tar_file)\n",
    "\n",
    "training_script_path = sagemaker_utils.upload(training_script_tar_file, f's3://{bucket}/{code_prefix}')\n"
   ]
  },
  {
   "cell_type": "markdown",
   "metadata": {},
   "source": [
    "##### Código utilizado durante el entrenamiento\n",
    "\n",
    "El código utilizado para el entrenamiento es el encontrado en el cuerpo principal del programa, bajo `if __name__=='__main__'`.\n",
    "\n",
    "Al igual que en el script utilizado para la preparación de los datos, vemos que se definen los siguientes parámetros, básicamente indicando las rutas de los archivos y los hiperparámetros de los algoritmos.\n",
    "\n",
    "```python\n",
    "    parser.add_argument('--output-data-dir', type=str, default=os.environ.get('SM_OUTPUT_DATA_DIR'))\n",
    "    parser.add_argument('--model-dir', type=str, default=os.environ.get('SM_MODEL_DIR'))\n",
    "    parser.add_argument('--train-data', type=str, default=os.environ.get('SM_CHANNEL_TRAIN_DATA'))\n",
    "    parser.add_argument('--train-target', type=str, default=os.environ.get('SM_CHANNEL_TRAIN_TARGET'))\n",
    "    \n",
    "    parser.add_argument('--algorithm', type=str)\n",
    "    parser.add_argument('--splits', type=int, default=10)\n",
    "    parser.add_argument('--target-metric', type=str)\n",
    "    \n",
    "    parser.add_argument('--learning-rate', type=float)\n",
    "    parser.add_argument('--min-samples-split', type=int)\n",
    "    parser.add_argument('--n-estimators', type=int)\n",
    "    parser.add_argument('--max-depth', type=int)\n",
    "    parser.add_argument('--max-features', type=int)\n",
    "```   \n",
    "\n",
    "Particularmente en los parámetros `--train-data` y `--train-target` encontramos las rutas de los archivos que necesitamos utilizar para el entrenamiento del modelo y los cargamos de la siguiente manera:\n",
    "\n",
    "```python\n",
    "    # Cargar datasets\n",
    "    files = os.listdir(args.train_data)\n",
    "    if len(files) == 1:\n",
    "        train_data = pd.read_csv(os.path.join(args.train_data, files[0]))\n",
    "    else:\n",
    "        raise Exception('Mas de un archivo recibido para el channel Data')\n",
    "    \n",
    "    files = os.listdir(args.train_target)\n",
    "    if len(files) == 1:\n",
    "        train_target = pd.read_csv(os.path.join(args.train_target, files[0]))\n",
    "        train_target = train_target['Churn'].tolist()\n",
    "    else:\n",
    "        raise Exception('Mas de un archivo recibido para el channel Target')\n",
    "``` \n",
    "\n",
    "Cómo se describió al inicio, con la finalidad de tener un sólo script de entrenamiento para los tres algoritmos, se crearon las siguientes funciones para para instanciar el _Estimator_ correspondiente a cada algoritmo de acuerdo al parámetro recibido.\n",
    "\n",
    "```python\n",
    "    def random_forest(**hyperparameters):\n",
    "        return RandomForestClassifier(n_jobs=-1, \n",
    "                                      min_samples_split=hyperparameters['min_samples_split'],\n",
    "                                      n_estimators=hyperparameters['n_estimators'],\n",
    "                                      max_depth=hyperparameters['max_depth'],\n",
    "                                      max_features=hyperparameters['max_features'])\n",
    "    \n",
    "    def gradient_boosting(**hyperparameters):\n",
    "        return GradientBoostingClassifier(learning_rate=hyperparameters['learning_rate'],\n",
    "                                          min_samples_split=hyperparameters['min_samples_split'],\n",
    "                                          n_estimators=hyperparameters['n_estimators'],\n",
    "                                          max_depth=hyperparameters['max_depth'],\n",
    "                                          max_features=hyperparameters['max_features'])\n",
    "    \n",
    "    def extra_trees(**hyperparameters):\n",
    "        return ExtraTreesClassifier(n_jobs=-1, \n",
    "                                    min_samples_split=hyperparameters['min_samples_split'],\n",
    "                                    n_estimators=hyperparameters['n_estimators'],\n",
    "                                    max_depth=hyperparameters['max_depth'],\n",
    "                                    max_features=hyperparameters['max_features'])\n",
    "    \n",
    "    def invalid_algorithm(**hyperparameters):\n",
    "        raise Exception('Invalid Algorithm')\n",
    "        \n",
    "    def algorithm_selector(algorithm, **hyperparameters):\n",
    "        algorithms = {\n",
    "            'RandomForest': random_forest,\n",
    "            'GradientBoosting': gradient_boosting,\n",
    "            'ExtraTrees': extra_trees\n",
    "        }\n",
    "        \n",
    "        clf = algorithms.get(algorithm, invalid_algorithm)    \n",
    "        return clf(**hyperparameters)\n",
    "```    \n",
    "\n",
    "De esta forma utilizando la función `algorithm_selector` entrenamos el modelo\n",
    "\n",
    "```python\n",
    "    clf = algorithm_selector(args.algorithm, \n",
    "                                 learning_rate=args.learning_rate,\n",
    "                                 min_samples_split=args.min_samples_split,\n",
    "                                 n_estimators=args.n_estimators,\n",
    "                                 max_depth=args.max_depth,\n",
    "                                 max_features=args.max_features)\n",
    "        \n",
    "    skf = StratifiedKFold(n_splits=args.splits)    \n",
    "    cv_scores = cross_validate(clf, train_data, train_target, cv=skf, scoring=args.target_metric, n_jobs=-1)\n",
    "    print('{} = {}%'.format(args.target_metric, cv_scores['test_score'].mean().round(4)*100))\n",
    "    \n",
    "    # Entrenar el modelo\n",
    "    clf.fit(train_data, train_target) \n",
    "```    \n",
    "\n",
    "La línea de código `print('{} = {}%'.format(args.target_metric, cv_scores['test_score'].mean().round(4)*100))` nos permitirá posteriormente definir una expresión regular para monitorear el desempeño del entrenamiento de nuestros modelos.\n",
    "\n",
    "Y una vez entrenado lo guardamos utilizando _Pickle_ para mas adelante poder cargarlo en memoria cuando realicemos el despligue del modelo\n",
    "\n",
    "```python\n",
    "    # Guardar modelo\n",
    "        to_pkl(clf, os.path.join(args.model_dir, \"model.pkl\"))\n",
    "```    \n",
    "\n",
    "Con lo anterior es que implementamos una lógica similar, a la que encontramos en el Jupyter Notebook descargado, para entrenar los modelos utilizando los tres algoritmos **Random Forest**, **Gradient Boosting** y **Extra Trees**.\n",
    "\n",
    "![Código de entrenamiento en Notebook](img/TrainingCode.png)\n",
    "\n",
    "##### Código utilizado durante el despliegue\n",
    "\n",
    "```python\n",
    "    # Carga el modelo en memoria\n",
    "    def model_fn(model_dir):\n",
    "        clf = read_pkl(os.path.join(model_dir, \"model.pkl\"))\n",
    "        return clf\n",
    "\n",
    "    # Deserealiza el body de la petición para poder generar las predicciones\n",
    "    def input_fn(request_body, request_content_type):\n",
    "        print(f'INFO: input_fn: request_content_type: {request_content_type}')\n",
    "        print(f'INFO: input_fn: request_body: {request_body}')\n",
    "        if request_content_type == 'application/json':        \n",
    "            return json.loads(request_body)\n",
    "        elif request_content_type == 'text/csv':      \n",
    "            data = io.StringIO(request_body)        \n",
    "            return pd.read_csv(data)\n",
    "        else:\n",
    "            raise ValueError('El endpoint del modelo solamente soporta Content-Type=\"application/json\" como input')\n",
    "            \n",
    "    # Genera la predicción sobre el objeto deserializado, con el modelo previamente cargado en memoria\n",
    "    def predict_fn(input_data, model):\n",
    "        predict_proba = getattr(model, 'predict_proba', None)\n",
    "        if callable(predict_proba):\n",
    "            return predict_proba(input_data)[:, 1]\n",
    "        else:\n",
    "            return model.predict(input_data)\n",
    "\n",
    "    # Serializa el resultado de la predicción al correspondiente content type deseado\n",
    "    def output_fn(prediction, response_content_type):\n",
    "        print(f'INFO: output_fn: response_content_type: {response_content_type}')\n",
    "        if response_content_type == 'application/json':        \n",
    "            return json.dumps(prediction.tolist())\n",
    "        elif response_content_type == 'text/csv':\n",
    "            predictions_response = io.StringIO()\n",
    "            np.savetxt(predictions_response, prediction, delimiter=',')\n",
    "            return predictions_response.getvalue()\n",
    "        else:\n",
    "            raise ValueError('El endpoint del modelo solamente soporta Content-Type=\"application/json\" como output') \n",
    "```   \n",
    "\n",
    "*   La función `model_fn` tiene la lógica para cargar el modelo en memoria y se ejecuta solamente al iniciar por primera vez el contenedor, una vez hecho el despligue del modelo, lo cual se describe en el **capítulo 8**\n",
    "*   Con cada petición al endpoint del modelo, una vez desplegado, se ejecutan las siguientes funciones en este respectivo orden:\n",
    "    1.  `input_fn` la cual recibe los datos provenientes de la petición y se encarga de realizar la transformación que sea necesaria para poder posteriormente pasar los datos al modelo para generar la predicción\n",
    "    2.  `predict_fn` se encarga de generar la predicción, recibiendo como entrada la salida de la función `input_fn`\n",
    "    3.  `output_fn` una vez obtenida la predicción, esta función se encarga de realizar las transformaciones necesarias para devolver la respuesta al solicitante de la petición\n",
    "\n",
    "Con esto estamos listos para crear un Job de entrenamiento en **Amazon SageMaker**."
   ]
  },
  {
   "cell_type": "markdown",
   "metadata": {},
   "source": [
    "Crear Training Job\n",
    "==================\n",
    "\n",
    "Para crear el Job de entrenamiento en **Amazon SageMaker** utilizamos la clase `CustomEstimator` (descargada con las dependencias de este laboratorio al inicio del Notebook) para crear un Estimator el cual permita integrar nuestro script `train_and_serve.py` con el contenedor Docker que previamente creamos para el entrenamiento de nuestros modelos.\n",
    "\n",
    "También utilizaremos la expresión regular `recall = (\\d+\\.\\d{1,2})?` para definir una métrica de desempeño de nuestro algoritmo, en este caso por tratarse de un problema de Churn, lo que buscamos es incrementar el Recall, esta métrica es calculada mediante el uso de k-Fold Cross-Validation. **Amazon SageMaker** aplica esta expresión regular a los mensajes de la salida estándar. Posteriormente mediante el uso de esta métrica podremos crear un Job de optimización de hiperparámetros.\n",
    "\n",
    "Para ejecutar los procesos de entrenamiento lo haremos llamando el método `fit` del estimator previamente creado. Y lo haremos creando tres procesos de entrenamiento en paralelo, esta es una de las ventajas que nos da al entrenar modelos utilizando **Amazon SageMaker**, ya que no dependemos de la capacidad de cómputo de nuestras computadoras o dónde estemos ejecutando el Jupyter Notebook. En este caso los procesos de entrenamiento son ejecutados en infraestructura en AWS, orquestada y administrada por **Amazon SageMaker**.\n"
   ]
  },
  {
   "cell_type": "markdown",
   "metadata": {},
   "source": [
    "**Esta ejecucion se debe hacer posterior a la generacion de las imagenes, para tener las img uris**  \n",
    "La traemos de Sagemaker_pipelines previamente ejecutado"
   ]
  },
  {
   "cell_type": "code",
   "execution_count": 11,
   "metadata": {},
   "outputs": [],
   "source": [
    "docker_images = {'Processing': {'libraries': {'pandas': '1.2.4',\n",
    "   'numpy': '1.20.2',\n",
    "   'scikit-learn': '0.24.2'},\n",
    "  'build_id': 'churn-clf-processing-build-image:7e3a3c1e-4038-4a84-aae6-408606f73789',\n",
    "  'image_uri': '829825986145.dkr.ecr.us-east-1.amazonaws.com/churn-clf-processing:latest'},\n",
    " 'Training': {'libraries': {'pandas': '1.2.4',\n",
    "   'numpy': '1.20.2',\n",
    "   'scikit-learn': '0.24.2',\n",
    "   'sagemaker-training': '3.9.2'},\n",
    "  'build_id': 'churn-clf-training-build-image:acd0f05b-4dba-48d4-85ca-c06c2addfd4e',\n",
    "  'image_uri': '829825986145.dkr.ecr.us-east-1.amazonaws.com/churn-clf-training:latest'},\n",
    " 'Inference': {'libraries': {'pandas': '1.2.4',\n",
    "   'numpy': '1.20.2',\n",
    "   'scikit-learn': '0.24.2',\n",
    "   'multi-model-server': '1.1.8',\n",
    "   'sagemaker-inference': '1.5.11',\n",
    "   'boto3': '1.21.43',\n",
    "   'itsdangerous': '2.0.1'},\n",
    "  'dependencies': [('serving', '/opt/ml/serving')],\n",
    "  'others': ['RUN pip install -e /opt/ml/serving',\n",
    "   'LABEL com.amazonaws.sagemaker.capabilities.multi-models=false',\n",
    "   'LABEL com.amazonaws.sagemaker.capabilities.accept-bind-to-port=true'],\n",
    "  'entrypoint': ['python', '/opt/ml/serving/custom_inference/serving.py'],\n",
    "  'cmd': ['serve'],\n",
    "  'build_id': 'churn-clf-inference-build-image:c096f995-2a79-4ea7-8364-0aa4afa43752',\n",
    "  'image_uri': '829825986145.dkr.ecr.us-east-1.amazonaws.com/churn-clf-inference:latest'}}\n",
    "\n",
    "sagemaker_role = \"arn:aws:iam::829825986145:role/service-role/AmazonSageMaker-ExecutionRole-20220424T173630\""
   ]
  },
  {
   "cell_type": "markdown",
   "metadata": {},
   "source": [
    "Previo a ejecutar nuestro Job de procesamiento, definimos las siguientes variables para mas adelante poder re-utilizarlas"
   ]
  },
  {
   "cell_type": "code",
   "execution_count": null,
   "metadata": {},
   "outputs": [],
   "source": [
    "train_data_file = 'train_data.csv'\n",
    "train_target_file = 'train_target.csv'\n",
    "test_data_file = 'test_data.csv'\n",
    "test_target_file = 'test_target.csv'\n",
    "encoder_file = 'encoder.pkl'"
   ]
  },
  {
   "cell_type": "code",
   "execution_count": 14,
   "metadata": {},
   "outputs": [],
   "source": [
    "estimators = {'GradientBoosting':{}, 'RandomForest':{}, 'ExtraTrees':{}}\n",
    "metric_name = 'cross-val:recall'\n",
    "metric_regex = 'recall = (\\d+\\.\\d{1,2})?'\n",
    "\n",
    "for algorithm in estimators:   \n",
    "    estimators[algorithm] = Estimator(\n",
    "        image_uri = docker_images['Training']['image_uri'],        \n",
    "        entry_point = os.path.basename(training_script_file),\n",
    "        source_dir = training_script_path,\n",
    "        role = sagemaker_role,\n",
    "        instance_count = 1,\n",
    "        instance_type = 'ml.m5.xlarge',\n",
    "        output_path = f's3://{bucket}/{model_prefix}',\n",
    "        metric_definitions = [{'Name': metric_name, 'Regex': metric_regex}],\n",
    "        volume_size = 5,\n",
    "        max_run = 60*60*2, # dos horas\n",
    "        hyperparameters={\n",
    "            'algorithm':algorithm,\n",
    "            'splits':5,\n",
    "            'target-metric':'recall',\n",
    "            'learning-rate': 0.1, \n",
    "            'min-samples-split': 3, \n",
    "            'n-estimators': 300,\n",
    "            'max-depth': 25,\n",
    "            'max-features':20})\n",
    "    \n",
    "    estimators[algorithm].fit(\n",
    "        #{'train_data': sagemaker_utils.get_processor_output_path(processor, 'train_data'),\n",
    "        #'train_target': sagemaker_utils.get_processor_output_path(processor, 'train_target')},\n",
    "        {\n",
    "            'train_data': f's3://{bucket}/{processed_data_prefix}/train_data',\n",
    "            'train_target': f's3://{bucket}/{processed_data_prefix}/train_target'\n",
    "        },\n",
    "        wait=False)"
   ]
  },
  {
   "cell_type": "markdown",
   "metadata": {},
   "source": [
    "Para esperar a que terminen de ejecutarse los procesos de entrenamiento en **Amazon SageMaker**, podemos utilizar el siguiente método:"
   ]
  },
  {
   "cell_type": "code",
   "execution_count": 15,
   "metadata": {},
   "outputs": [
    {
     "name": "stdout",
     "output_type": "stream",
     "text": [
      "\u001b[Kchurn-clf-training-2022-05-01-18-42-29-648............................Completed!\n",
      "\u001b[Kchurn-clf-training-2022-05-01-18-42-27-110............................Completed!\n",
      "\u001b[Kchurn-clf-training-2022-05-01-18-42-29-648............................Completed!\n",
      "\u001b[Kchurn-clf-training-2022-05-01-18-42-27-110............................Completed!\n",
      "\u001b[Kchurn-clf-training-2022-05-01-18-42-29-648............................Completed!\n",
      "\u001b[Kchurn-clf-training-2022-05-01-18-42-27-110............................Completed!\n",
      "\u001b[Kchurn-clf-training-2022-05-01-18-42-29-648............................Completed!\n",
      "\u001b[Kchurn-clf-training-2022-05-01-18-42-25-702............................Completed!\n",
      "\u001b[Kchurn-clf-training-2022-05-01-18-42-27-110............................Completed!\n",
      "\u001b[Kchurn-clf-training-2022-05-01-18-42-29-648............................Completed!\n",
      "\u001b[K\u001b[34m✅\u001b[0m Waiting for training jobs to finish\n"
     ]
    }
   ],
   "source": [
    "sagemaker_utils.wait_for_training_jobs(estimators)"
   ]
  },
  {
   "cell_type": "markdown",
   "metadata": {},
   "source": [
    "Y por último para obtener las métricas de desempeño de cada estimator, podemos iterar a través de estos."
   ]
  },
  {
   "cell_type": "markdown",
   "metadata": {},
   "source": [
    "Debemos ver un resultado como el siguiente:  \n",
    "      \n",
    "    **GradientBoosting: cross-val:recall = 72.41%**  \n",
    "    **RandomForest: cross-val:recall = 71.03%**  \n",
    "    **ExtraTrees: cross-val:recall = 60.91%**"
   ]
  },
  {
   "cell_type": "code",
   "execution_count": 16,
   "metadata": {},
   "outputs": [
    {
     "name": "stdout",
     "output_type": "stream",
     "text": [
      "GradientBoosting: cross-val:recall = 73.56%\n",
      "RandomForest: cross-val:recall = 72.87%\n",
      "ExtraTrees: cross-val:recall = 62.99%\n"
     ]
    }
   ],
   "source": [
    "for estimator in estimators:\n",
    "        metrics = estimators[estimator].training_job_analytics.dataframe()\n",
    "        test_recall = metrics[metrics['metric_name'] == metric_name]['value'].values[0]\n",
    "        print(f'{estimator}: cross-val:recall = {test_recall}%')"
   ]
  },
  {
   "cell_type": "markdown",
   "metadata": {},
   "source": [
    "### Capítulo 6\n",
    "\n",
    "Optimización de hiperparámetros\n",
    "===============================\n",
    "\n",
    "### Objetivo\n",
    "\n",
    "Amazon SageMaker nos ofrece la funcionalidad de optimización de hiperpárametros, ya sea utilizando una búsqueda aleatoria o un método bayesiano, en este caso vamos a utilizar el segundo método el cual permite entrenar un modelo de forma iterativa e ir identificando que combinación de hiperparámetros, nos permite minimizar o maximizar más la métrica objetivo."
   ]
  },
  {
   "cell_type": "markdown",
   "metadata": {},
   "source": [
    "Como funciona la optimización de hiperparámetros en SageMaker\n",
    "=============================================================\n",
    "\n",
    "**Amazon SageMaker** nos permite encontrar la mejor combinación de valores de los hiperparámetros de manera automática, mediante la ejecución de múltiples procesos de entrenamiento utilizando el rango de valores de los hiperparámetros que se especifique. Posteriormente selecciona los valores de hiperparámetros que resulten en el modelo con mejor desempeño, con base en una métrica objetivo previamente seleccionada.\n",
    "\n",
    "Existen dos métodos que podemos utilizar para la búsqueda de los mejores valores de hiperparámetros:\n",
    "\n",
    "*   **Random Search** – en la búsqueda aleatoria, **Amazon SageMaker** selecciona una combinación de valores de los rangos, especificados para los hiperparámetros, de forma aleatoria y posteriormente selecciona aquella combinación que haya dado el mejor desempeño. Debido a que la selección de la combinación de valores de los hiperparámetros no depende del resultado de los procesos de entrenamiento previos, es posible ejecutar el máximo número de procesos concurrentes en paralelo sin afectar el desempeño de la búsqueda\n",
    "    \n",
    "*   **Bayesian Search** – la búsqueda bayesiana trata la selección de los valores de los hiperparámetros como si se tratará de un problema de regresión. Dado un conjunto de hiperparámetros, **Amazon SageMaker** estima que combinación de estos tienen mayor probabilidad de obtener los mejores resultados y ejecuta procesos de entrenamiento para comprobar eso. Después de probar el primer conjunto de valores de hiperparámetros, vuelve a estimar la mejor combinación para la siguiente prueba. Continua de esa forma hasta alcanzar el número máximo de procesos de entrenamiento especificados al lanzar el proceso de optimización\n",
    "    \n",
    "\n",
    "En este taller utilizaremos el método de búsqueda bayesiana para la optmización de los valores de los hiperparámetros.\n",
    "\n",
    "Para conocer más de la funcionalidad de optimización de hiperparámetros de **Amazon SageMaker** consultar la [documentación](https://docs.aws.amazon.com/sagemaker/latest/dg/automatic-model-tuning.html) ."
   ]
  },
  {
   "cell_type": "markdown",
   "metadata": {},
   "source": [
    "Crear proceso de optimización (Tuning Job)\n",
    "==========================================\n",
    "\n",
    "Gracias a que creamos tres estimators para el entrenamiento, ahora podemos crear tres procesos de optimización que se ejecuten en paralelo, para esto utilizamos la clase `HyperparameterTuner` y especificamos los rangos de valores para los hiperparámetros utilizando `ContinuousParameter`, `IntegerParameter` o `CategoricalParameter` dependiendo de si se trata de un valor continuo, discreto o categórico; respectivamente.\n",
    "\n"
   ]
  },
  {
   "cell_type": "code",
   "execution_count": 19,
   "metadata": {},
   "outputs": [],
   "source": [
    "tuners = {}\n",
    "\n",
    "total_jobs = 16\n",
    "parallel_jobs = 2\n",
    "\n",
    "tuners['GradientBoosting'] = HyperparameterTuner(\n",
    "        estimator=estimators['GradientBoosting'],\n",
    "        objective_metric_name=metric_name,\n",
    "        objective_type='Maximize',\n",
    "        hyperparameter_ranges={'learning-rate': ContinuousParameter(0.01, 0.1),\n",
    "                                'min-samples-split': IntegerParameter(5, 15), \n",
    "                                'n-estimators': IntegerParameter(400, 800),\n",
    "                                'max-depth': IntegerParameter(3, 10),\n",
    "                                'max-features': IntegerParameter(15, 30)},\n",
    "        metric_definitions=[{'Name': metric_name, \n",
    "                                'Regex': metric_regex}],\n",
    "        max_jobs=total_jobs,\n",
    "        max_parallel_jobs=parallel_jobs)\n",
    "\n",
    "tuners['RandomForest'] = HyperparameterTuner(\n",
    "        estimator=estimators['RandomForest'],\n",
    "        objective_metric_name=metric_name,\n",
    "        objective_type='Maximize',\n",
    "        hyperparameter_ranges={'min-samples-split': IntegerParameter(3,10), \n",
    "                                'n-estimators': IntegerParameter(150,300),\n",
    "                                'max-depth': IntegerParameter(20,35),\n",
    "                                'max-features': IntegerParameter(15,30)},\n",
    "        metric_definitions=[{'Name': metric_name, \n",
    "                                'Regex': metric_regex}],\n",
    "        max_jobs=total_jobs,\n",
    "        max_parallel_jobs=parallel_jobs)\n",
    "\n",
    "tuners['ExtraTrees'] = HyperparameterTuner(\n",
    "        estimator=estimators['ExtraTrees'],\n",
    "        objective_metric_name=metric_name,\n",
    "        objective_type='Maximize',\n",
    "        hyperparameter_ranges={'min-samples-split': IntegerParameter(3,10), \n",
    "                                'n-estimators': IntegerParameter(150,350),\n",
    "                                'max-depth': IntegerParameter(20,35),\n",
    "                                'max-features': IntegerParameter(15,30)},\n",
    "        metric_definitions=[{'Name': metric_name, \n",
    "                                'Regex': metric_regex}],\n",
    "        max_jobs=total_jobs,\n",
    "        max_parallel_jobs=parallel_jobs)\n",
    "    \n",
    "\n"
   ]
  },
  {
   "cell_type": "markdown",
   "metadata": {},
   "source": [
    "La variable `total_jobs` especifíca el número total de procesos de entrenamiento (combinaciones distintas de valores de hiperparámetros) a ejecutar y la variable `parallel_jobs` especifíca el número máximo de procesos a ejecutar en paralelo.\n",
    "\n",
    "Para ejecutar cada uno de los procesos utilizamos el método `fit()` pasando como parámetros la ubicación de los datasets y mediante el parámetro `wait=False` es que le indicamos que ejecute el proceso de manera asíncrona (sin esperar a que cada uno de los procesos termine).\n",
    "\n",
    "   "
   ]
  },
  {
   "cell_type": "code",
   "execution_count": 20,
   "metadata": {},
   "outputs": [],
   "source": [
    "for tuner in tuners:\n",
    "       tuners[tuner].fit(   #{\n",
    "                            #'train_data': sagemaker_utils.get_processor_output_path(processor, 'train_data'),\n",
    "                            #'train_target': sagemaker_utils.get_processor_output_path(processor, 'train_target')\n",
    "                            #}, \n",
    "                            {\n",
    "                            'train_data': f's3://{bucket}/{processed_data_prefix}/train_data',\n",
    "                            'train_target': f's3://{bucket}/{processed_data_prefix}/train_target'\n",
    "                            },\n",
    "                     job_name= f'{prefix}-{tuner}-{strftime(\"%M-%S\", gmtime())}',\n",
    "                     wait=False)"
   ]
  },
  {
   "cell_type": "markdown",
   "metadata": {},
   "source": [
    "Ahora que los tres procesos se ejecutan de forma asíncrona y paralela, mediante el siguiente método podemos esperar a que los tres procesos hayan terminado."
   ]
  },
  {
   "cell_type": "code",
   "execution_count": 22,
   "metadata": {},
   "outputs": [
    {
     "name": "stdout",
     "output_type": "stream",
     "text": [
      "\u001b[Kchurn-clf-GradientBoosting-24-18......................................Completed!\n",
      "\u001b[Kchurn-clf-RandomForest-24-20..........................................Completed!\n",
      "\u001b[Kchurn-clf-ExtraTrees-24-22............................................Completed!\n",
      "\u001b[K\u001b[34m✅\u001b[0m Waiting for optimization jobs to finish\n"
     ]
    }
   ],
   "source": [
    "sagemaker_utils.wait_for_optmimization_jobs(tuners)"
   ]
  },
  {
   "cell_type": "markdown",
   "metadata": {},
   "source": [
    "Mediante la invocación del método `describe()` podemos obtener el proceso de entrenamiento cuyo modelo resultante obtuvo el mejor desempeño, en este caso maximizando la métrica objetivo _Recall_. Posteriormente de los metadatos devueltos del mejor proceso de entrenamiento, podemos obtener los valores de los hiperparámetros así cómo el valor obtenido en la métrica objetivo."
   ]
  },
  {
   "cell_type": "code",
   "execution_count": 23,
   "metadata": {},
   "outputs": [
    {
     "name": "stdout",
     "output_type": "stream",
     "text": [
      "GradientBoosting\n",
      "\thyper parameters: {'learning-rate': '0.09756610928771621', 'max-depth': '6', 'max-features': '24', 'min-samples-split': '9', 'n-estimators': '503'}\n",
      "\tcross-val:recall: 76.08999633789062\n",
      "\n",
      "RandomForest\n",
      "\thyper parameters: {'max-depth': '27', 'max-features': '25', 'min-samples-split': '6', 'n-estimators': '230'}\n",
      "\tcross-val:recall: 74.94000244140625\n",
      "\n",
      "ExtraTrees\n",
      "\thyper parameters: {'max-depth': '33', 'max-features': '30', 'min-samples-split': '4', 'n-estimators': '159'}\n",
      "\tcross-val:recall: 71.02999877929688\n",
      "\n"
     ]
    }
   ],
   "source": [
    "hyperparameters = {}\n",
    "for tuner in tuners:\n",
    "    best_training_job = tuners[tuner].describe()['BestTrainingJob']\n",
    "    objective_metric = best_training_job['FinalHyperParameterTuningJobObjectiveMetric']\n",
    "    \n",
    "    hyperparameters[tuner] = best_training_job['TunedHyperParameters']\n",
    "    print(tuner)\n",
    "    print(f\"\\thyper parameters: {hyperparameters[tuner]}\")\n",
    "    print(f\"\\t{objective_metric['MetricName']}: {objective_metric['Value']}\\n\")"
   ]
  },
  {
   "cell_type": "markdown",
   "metadata": {},
   "source": [
    "Ahora que tenemos el mejor candidato (modelo con mejor desempeño) para cada uno de los tres algoritmos, podemos pasar a comparar el desempeño entre estos para seleccionar el mejor."
   ]
  },
  {
   "cell_type": "markdown",
   "metadata": {},
   "source": [
    "### Capítulo 7\n",
    "\n",
    "Evaluación de desempeño\n",
    "=======================\n",
    "\n",
    "### Objetivo\n",
    "\n",
    "Evaluar el desempeño de los modelos entrenados con SageMaker con la finalidad de seleccionar aquel que haya tenido el mejor desempeño, esto lo haremos nuevamente mediante el uso de un Processing Job de **Amazon SageMaker**."
   ]
  },
  {
   "cell_type": "markdown",
   "metadata": {},
   "source": [
    "Crear el script\n",
    "===============\n",
    "\n",
    "Al igual que cómo hicimos con la preparación de los datos, utilizaremos un _Processing Job_ de **Amazon SageMaker** pero en este caso para buscar el umbral de clasificación, es decir el modelo nos devuelve la probabilidad de que el cliente haga _Churn_ y lo que queremos en este caso es encontrar el valor a partir del cual clasificaremos como 1 (_churn_) o 0 (_no-churn_). Esto lo haremos buscando maximizar la métrica _Recall_ pero manteniendo un mínimo valor para la métrica _Precision_, que recibiremos como parámetro.\n",
    "\n",
    "En el caso del Jupyter Notebook descargado podemos encontrar que esto se logra mediante la invocación de la siguiente función:  \n",
    "![bms_finder](img/operating_point.png)\n",
    "\n",
    "En la que básicamente se obtienen las predicciones del modelos y posteriormente mediante el uso de la función `precision_recall_curve()` del Framework **Scikit-learn** y después a través del método `argmax()` de la librería **numpy** obtenemos el punto en el cual la métrica _Recall_ se maximiza manteniendo el mínimo de la métrica _Precision_ buscado.\n",
    "\n",
    "El programa que crearemos para el _Processing Job_ implementará una lógica similar y al final guardaremos los umbrales encontrados para cada modelo en un archivo separado por comas.\n"
   ]
  },
  {
   "cell_type": "code",
   "execution_count": 24,
   "metadata": {},
   "outputs": [],
   "source": [
    "evaluate_models_script_file = 'code/evaluate_models.py'"
   ]
  },
  {
   "cell_type": "code",
   "execution_count": 27,
   "metadata": {},
   "outputs": [
    {
     "name": "stdout",
     "output_type": "stream",
     "text": [
      "Overwriting code/evaluate_models.py\n"
     ]
    }
   ],
   "source": [
    "%%writefile $evaluate_models_script_file\n",
    "import argparse\n",
    "import pickle\n",
    "import os\n",
    "import json\n",
    "import tarfile\n",
    "import pandas as pd\n",
    "import numpy as np\n",
    "\n",
    "from sklearn.metrics import precision_recall_curve\n",
    "\n",
    "def load_model(file, model_file='model.pkl'):\n",
    "    if file.endswith('tar.gz'):\n",
    "        with tarfile.open(file, 'r:gz') as tar:\n",
    "            for name in tar.getnames():\n",
    "                if name == model_file:\n",
    "                    f = tar.extractfile(name)\n",
    "                    return pickle.load(f)\n",
    "            return None\n",
    "    elif file.endswith('pkl'):\n",
    "        with open(file, 'rb') as f:\n",
    "            return pickle.load(f)\n",
    "    else:\n",
    "        return None\n",
    "\n",
    "if __name__=='__main__':\n",
    "    script_name = os.path.basename(__file__)\n",
    "    print(f'INFO: {script_name}: Iniciando la evaluación de los modelos')\n",
    "    \n",
    "    parser = argparse.ArgumentParser()\n",
    "    parser.add_argument('--algos', type=str, required=True)\n",
    "    parser.add_argument('--min-precision', type=float, required=True)    \n",
    "    parser.add_argument('--test-data-file', type=str, required=True)\n",
    "    parser.add_argument('--test-target-file', type=str, required=True)\n",
    "    parser.add_argument('--thresholds-file', type=str, required=True)   \n",
    "    parser.add_argument('--metrics-report-file', type=str, required=True)    \n",
    "    \n",
    "    args, _ = parser.parse_known_args()    \n",
    "    \n",
    "    print(f'INFO: {script_name}: Parámetros recibidos: {args}')\n",
    "    \n",
    "    input_path = '/opt/ml/processing/input'\n",
    "    output_path = '/opt/ml/processing/output'\n",
    "    \n",
    "    # Cargar datasets\n",
    "    test_target_path = os.path.join(input_path, 'target', args.test_target_file)     \n",
    "    test_target = pd.read_csv(test_target_path)\n",
    "    \n",
    "    test_data_path = os.path.join(input_path, 'data', args.test_data_file)     \n",
    "    test_data = pd.read_csv(test_data_path)\n",
    "    \n",
    "    # Umbrales de decision por algoritmo\n",
    "    algo_metrics = {'Algorithm':[], 'Threshold':[], 'Precision':[], 'Recall':[]}\n",
    "    \n",
    "    metrics_report = {}\n",
    "    \n",
    "    algos = args.algos.split(',')\n",
    "    for algo in algos:\n",
    "        model_path = os.path.join(input_path, algo, 'model.tar.gz')         \n",
    "\n",
    "        # Carga modelo en memoria\n",
    "        print(f'Cargando modelo: {model_path}')\n",
    "        clf = load_model(model_path)\n",
    "        \n",
    "        # Obtiene predicciones con dataset para pruebas\n",
    "        predictions = clf.predict_proba(test_data)[:, 1]\n",
    "        \n",
    "        # Busca umbral de decision\n",
    "        precision, recall, thresholds = precision_recall_curve(test_target, predictions)\n",
    "        operating_point_idx = np.argmax(precision>=args.min_precision)\n",
    "        \n",
    "        algo_metrics['Threshold'].append(thresholds[operating_point_idx])\n",
    "        algo_metrics['Precision'].append(precision[operating_point_idx])\n",
    "        algo_metrics['Recall'].append(recall[operating_point_idx])\n",
    "        algo_metrics['Algorithm'].append(algo)\n",
    "        \n",
    "        metrics_report[algo] = {\n",
    "            'precision': {'value': precision[operating_point_idx], 'standard_deviation': 'NaN'},\n",
    "            'recall': {'value': recall[operating_point_idx], 'standard_deviation': 'NaN'}}\n",
    "            \n",
    "    \n",
    "    # Guardar Thresholds    \n",
    "    metrics = pd.DataFrame(algo_metrics)\n",
    "    print(f'INFO: {script_name}: Thresholds encontrados')\n",
    "    print(metrics)\n",
    "    metrics.to_csv(os.path.join(output_path, args.thresholds_file), index=False)    \n",
    "    \n",
    "    # Guardar reporte de metricas para cada modelo\n",
    "    for algo in metrics_report:\n",
    "        with open(os.path.join(output_path, f'{algo}_metrics.json'), 'w') as f:\n",
    "            json.dump({'binary_classification_metrics':metrics_report[algo]},f)        \n",
    "\n",
    "    \n",
    "    print(f'INFO: {script_name}: Finalizando la evaluación de los modelos')"
   ]
  },
  {
   "cell_type": "markdown",
   "metadata": {},
   "source": [
    "Subimos el script a un bucket de **Amazon S3** para poder utilizarlo con el _Processing Job_"
   ]
  },
  {
   "cell_type": "code",
   "execution_count": 29,
   "metadata": {},
   "outputs": [
    {
     "name": "stderr",
     "output_type": "stream",
     "text": [
      "Uploading: 100%|██████████| 3.56k/3.56k [00:00<00:00, 4.01kB/s]\n"
     ]
    }
   ],
   "source": [
    "evaluate_models_script_path = sagemaker_utils.upload(evaluate_models_script_file, f's3://{bucket}/{code_prefix}')"
   ]
  },
  {
   "cell_type": "markdown",
   "metadata": {},
   "source": [
    "Ya que tenemos el script listo en S3, podemos pasar a crear el _Processing Job_."
   ]
  },
  {
   "cell_type": "markdown",
   "metadata": {},
   "source": [
    "Crear Processing Job\n",
    "====================\n",
    "\n",
    "Al igual que lo hicimos cuando creamos el _Processing Job_ para la preparación de los datos, en este caso creamos otro nuevamente utilizando la clase `Processor`."
   ]
  },
  {
   "cell_type": "code",
   "execution_count": 30,
   "metadata": {},
   "outputs": [],
   "source": [
    "evaluation_processor = Processor(\n",
    "    image_uri=docker_images['Processing']['image_uri'],\n",
    "    role=sagemaker_role,\n",
    "    instance_count=1,\n",
    "    instance_type='ml.m5.large',\n",
    "    entrypoint=['python3',f'/opt/ml/processing/input/code/{os.path.basename(evaluate_models_script_file)}'],\n",
    "    volume_size_in_gb=5,\n",
    "    max_runtime_in_seconds=60*60*2)# dos horas "
   ]
  },
  {
   "cell_type": "markdown",
   "metadata": {},
   "source": [
    "Y ejecutamos el proceso con el método `run()`, proporcionando los siguientes parámetros:\n",
    "\n",
    "*   `inputs` – rutas de las ubicaciones en **Amazon S3** de los archivos de entrada a ser utilizados, en este caso el dataset para pruebas, así como los archivos de predicciones de cada uno de los modelos y el programa Python a ejecutar dentro del contenedor\n",
    "*   `outputs` – ruta para guardar el resultado del proceso, en este caso los umbrales para cada modelo\n",
    "*   `arguments` – parámetros del proceso que son pasados cómo argumentos de la línea de comandos al programa Python que se ejecuta dentro del contenedor"
   ]
  },
  {
   "cell_type": "code",
   "execution_count": 33,
   "metadata": {},
   "outputs": [
    {
     "name": "stdout",
     "output_type": "stream",
     "text": [
      "\n",
      "Job Name:  churn-clf-processing-2022-05-01-21-42-49-371\n",
      "Inputs:  [{'InputName': 'code', 'AppManaged': False, 'S3Input': {'S3Uri': 's3://sagemaker-us-east-1-829825986145/churn-clf/code/evaluate_models.py', 'LocalPath': '/opt/ml/processing/input/code', 'S3DataType': 'S3Prefix', 'S3InputMode': 'File', 'S3DataDistributionType': 'FullyReplicated', 'S3CompressionType': 'None'}}, {'InputName': 'input-2', 'AppManaged': False, 'S3Input': {'S3Uri': 's3://sagemaker-us-east-1-829825986145/churn-clf/processed/test_target', 'LocalPath': '/opt/ml/processing/input/target', 'S3DataType': 'S3Prefix', 'S3InputMode': 'File', 'S3DataDistributionType': 'FullyReplicated', 'S3CompressionType': 'None'}}, {'InputName': 'input-3', 'AppManaged': False, 'S3Input': {'S3Uri': 's3://sagemaker-us-east-1-829825986145/churn-clf/processed/test_data', 'LocalPath': '/opt/ml/processing/input/data', 'S3DataType': 'S3Prefix', 'S3InputMode': 'File', 'S3DataDistributionType': 'FullyReplicated', 'S3CompressionType': 'None'}}, {'InputName': 'input-4', 'AppManaged': False, 'S3Input': {'S3Uri': 's3://sagemaker-us-east-1-829825986145/churn-clf/models/churn-clf-GradientBoosting-24-18-009-ef8955e2/output/model.tar.gz', 'LocalPath': '/opt/ml/processing/input/GradientBoosting', 'S3DataType': 'S3Prefix', 'S3InputMode': 'File', 'S3DataDistributionType': 'FullyReplicated', 'S3CompressionType': 'None'}}, {'InputName': 'input-5', 'AppManaged': False, 'S3Input': {'S3Uri': 's3://sagemaker-us-east-1-829825986145/churn-clf/models/churn-clf-RandomForest-24-20-008-e6cf8c53/output/model.tar.gz', 'LocalPath': '/opt/ml/processing/input/RandomForest', 'S3DataType': 'S3Prefix', 'S3InputMode': 'File', 'S3DataDistributionType': 'FullyReplicated', 'S3CompressionType': 'None'}}, {'InputName': 'input-6', 'AppManaged': False, 'S3Input': {'S3Uri': 's3://sagemaker-us-east-1-829825986145/churn-clf/models/churn-clf-ExtraTrees-24-22-015-7713c0f4/output/model.tar.gz', 'LocalPath': '/opt/ml/processing/input/ExtraTrees', 'S3DataType': 'S3Prefix', 'S3InputMode': 'File', 'S3DataDistributionType': 'FullyReplicated', 'S3CompressionType': 'None'}}]\n",
      "Outputs:  [{'OutputName': 'eval', 'AppManaged': False, 'S3Output': {'S3Uri': 's3://sagemaker-us-east-1-829825986145/churn-clf/eval', 'LocalPath': '/opt/ml/processing/output', 'S3UploadMode': 'EndOfJob'}}]\n",
      ".......................INFO: evaluate_models.py: Iniciando la evaluación de los modelos\n",
      "INFO: evaluate_models.py: Parámetros recibidos: Namespace(algos='GradientBoosting,RandomForest,ExtraTrees', metrics_report_file='metrics_report.json', min_precision=0.85, test_data_file='test_data.csv', test_target_file='test_target.csv', thresholds_file='thresholds.csv')\n",
      "Cargando modelo: /opt/ml/processing/input/GradientBoosting/model.tar.gz\n",
      "Cargando modelo: /opt/ml/processing/input/RandomForest/model.tar.gz\n",
      "Cargando modelo: /opt/ml/processing/input/ExtraTrees/model.tar.gz\n",
      "INFO: evaluate_models.py: Thresholds encontrados\n",
      "          Algorithm  Threshold  Precision    Recall\n",
      "0  GradientBoosting   0.056122   0.854167  0.854167\n",
      "1      RandomForest   0.449701   0.866667  0.812500\n",
      "2        ExtraTrees   0.635220   0.875000  0.583333\n",
      "INFO: evaluate_models.py: Finalizando la evaluación de los modelos\n",
      "\n"
     ]
    }
   ],
   "source": [
    "thresholds_file = 'thresholds.csv'\n",
    "metrics_report_file = 'metrics_report.json'\n",
    "\n",
    "eval_parameters = {\n",
    "    'inputs':[ProcessingInput(\n",
    "                    input_name='code',\n",
    "                    source=evaluate_models_script_path,\n",
    "                    destination='/opt/ml/processing/input/code'),\n",
    "                ProcessingInput(\n",
    "                    source=f's3://{bucket}/{processed_data_prefix}/test_target', \n",
    "                    destination='/opt/ml/processing/input/target'),\n",
    "                ProcessingInput(\n",
    "                    source=f's3://{bucket}/{processed_data_prefix}/test_data', \n",
    "                    destination='/opt/ml/processing/input/data'),\n",
    "                ProcessingInput(\n",
    "                    source=sagemaker_utils.get_tuner_best_model_artifacts_path(tuners['GradientBoosting']), \n",
    "                    destination='/opt/ml/processing/input/GradientBoosting'),\n",
    "                ProcessingInput(\n",
    "                    source=sagemaker_utils.get_tuner_best_model_artifacts_path(tuners['RandomForest']),\n",
    "                    destination='/opt/ml/processing/input/RandomForest'),\n",
    "                ProcessingInput(\n",
    "                    source=sagemaker_utils.get_tuner_best_model_artifacts_path(tuners['ExtraTrees']), \n",
    "                    destination='/opt/ml/processing/input/ExtraTrees')],\n",
    "    'outputs':[ProcessingOutput(\n",
    "                    output_name='eval',\n",
    "                    source='/opt/ml/processing/output',\n",
    "                    destination=f's3://{bucket}/{eval_prefix}')],\n",
    "    'arguments':['--algos', ','.join(estimators.keys()),\n",
    "                    '--min-precision', '0.85',\n",
    "                    '--test-data-file', test_data_file,\n",
    "                    '--test-target-file', test_target_file,\n",
    "                    '--thresholds-file', thresholds_file,\n",
    "                    '--metrics-report-file', metrics_report_file]}\n",
    "\n",
    "evaluation_processor.run(**eval_parameters)"
   ]
  },
  {
   "cell_type": "markdown",
   "metadata": {},
   "source": [
    "En este caso estamos buscando tener un mínimo de 85% de precisión, indicado por el parámetro `--min-precision`.\n",
    "\n",
    "Al finalizar el proceso veremos un resultado como el siguiente:  \n",
    "![Thresholds](img/thresholds.png)"
   ]
  },
  {
   "cell_type": "markdown",
   "metadata": {},
   "source": [
    "Seleccionar el mejor modelo\n",
    "===========================\n",
    "\n",
    "Para seleccionar automaticamente el mejor modelo podemos descargar uno de los archivos resultantes del proceso de evaluación, en el cual se almacenaron los umbrales de decisión y seleccionar aquel que haya obtenido el valor más alto de `Recall`"
   ]
  },
  {
   "cell_type": "markdown",
   "metadata": {},
   "source": [
    "Al ejecutar la celda veremos un resultado como el siguiente:  \n",
    "\n",
    "![Thresholds](img/best_model.png)\n",
    "\n",
    "En este caso podemos ver que el modelo que mejor desempeño obtuvo es el correspondiente al algoritmo **GradientBoosting**, y el umbral a utilizar en este caso sería `0.13764`. Más adelante lo utilizaremos."
   ]
  },
  {
   "cell_type": "code",
   "execution_count": 34,
   "metadata": {},
   "outputs": [
    {
     "data": {
      "text/plain": [
       "Algorithm    GradientBoosting\n",
       "Threshold            0.056122\n",
       "Precision            0.854167\n",
       "Recall               0.854167\n",
       "Name: 0, dtype: object"
      ]
     },
     "execution_count": 34,
     "metadata": {},
     "output_type": "execute_result"
    }
   ],
   "source": [
    "thresholds_path = sagemaker_utils.get_processor_output_path(evaluation_processor,'eval')\n",
    "metrics = sagemaker_utils.read_csv(f'{thresholds_path}/{thresholds_file}')\n",
    "\n",
    "max_recall = metrics[metrics['Recall']==metrics['Recall'].max()]\n",
    "best_model_found = max_recall.loc[max_recall['Precision'].idxmax()]\n",
    "\n",
    "best_model_found"
   ]
  },
  {
   "cell_type": "code",
   "execution_count": 35,
   "metadata": {},
   "outputs": [
    {
     "data": {
      "text/plain": [
       "'s3://sagemaker-us-east-1-829825986145/churn-clf/eval'"
      ]
     },
     "execution_count": 35,
     "metadata": {},
     "output_type": "execute_result"
    }
   ],
   "source": [
    "thresholds_path"
   ]
  },
  {
   "cell_type": "markdown",
   "metadata": {},
   "source": [
    "Como se realiza el despliegue de modelos con SageMaker\n",
    "======================================================\n",
    "\n",
    "![Despliegue de modelo](img/Deployment.png?width=50pc)  \n",
    "\n",
    "Desplegar un modelo con **Amazon SageMaker** consiste en tres pasos:\n",
    "\n",
    "1.  **Crear un modelo en SageMaker** – al crear un modelo, se le especifica a **Amazon SageMaker** en dónde encontrar los componentes del modelo. Esto incluye la ruta del _bucket_ de **Amazon S3** en dónde los artefactos del modelo se encuentran almacenados. Estos deben estar empaquetados en un archivo con nombre `model.tar.gz`. Así como la ruta de **Amazon Elastic Container Registry** en dónde se encuentra la imagen Docker que contiene el código para la inferencia\n",
    "2.  **Crear una configuración para el endpoint** – se especifíca el nombre del modelo a utilizar y las instancias de cómputo para Machine Learning que se desea que **Amazon SageMaker** lance para hostear el modelo. Es posible configurar el endpoint para que automáticamente escale el número de instancias aprovisionadas. Cuando se especifican dos o más instancias, **Amazon SageMaker** las lanza en _Zonas de Disponibilidad_ distintas y gestiona el reemplazo de las instancias cuando es necesario, esto asegura una disponibilidad continua\n",
    "3.  **Crear un endpoint HTTPS** – a través de la configuración del endpoint proporcionada, **Amazon SageMaker** aprovisiona las instancias de cómputo requeridas y despliega el modelo conforme a la especificación de la configuración. Para obtener predicciones, la aplicación cliente puede realizar una petición al endpoint a través del protocolo HTTPS.\n",
    "\n",
    "Para mayor información consultar la [documentación](https://docs.aws.amazon.com/sagemaker/latest/dg/how-it-works-deployment.html)"
   ]
  },
  {
   "cell_type": "markdown",
   "metadata": {},
   "source": [
    "Despliegue en SageMaker\n",
    "=======================\n",
    "\n",
    "Para hacer el deployment del modelo seleccionado basta con invocar el método `deploy()` del objeto `Estimator`, del proceso de entrenamiento que mejor desempeño tuvo para ese algoritmo, proporcionando los siguientes parámetros:\n",
    "\n",
    "*   `endpoint_name` – nombre del endpoint a crear\n",
    "*   `initial_instance_count` – número inicial de instancias a utilizar en el clúster del endpoint\n",
    "*   `instance_type` – tipo de instancia(s) a utilizar\n",
    "*   `image_uri` – imagen Docker a utilizar. En este caso la creada para el despliegue del modelo"
   ]
  },
  {
   "cell_type": "code",
   "execution_count": 36,
   "metadata": {},
   "outputs": [
    {
     "name": "stdout",
     "output_type": "stream",
     "text": [
      "\n",
      "2022-05-01 19:48:32 Starting - Preparing the instances for training\n",
      "2022-05-01 19:48:32 Downloading - Downloading input data\n",
      "2022-05-01 19:48:32 Training - Training image download completed. Training in progress.\n",
      "2022-05-01 19:48:32 Uploading - Uploading generated training model\n",
      "2022-05-01 19:48:32 Completed - Training job completed\n",
      "-----!\n",
      "Endpoint Name: churn-clf-best-model-31-02\n"
     ]
    }
   ],
   "source": [
    "endpoint_name = f'{prefix}-best-model-{strftime(\"%M-%S\", gmtime())}'\n",
    "    \n",
    "best_estimator = tuners[best_model_found['Algorithm']].best_estimator()\n",
    "\n",
    "predictor = best_estimator.deploy(endpoint_name=endpoint_name,\n",
    "                                    initial_instance_count=1, \n",
    "                                    instance_type='ml.m5.large',\n",
    "                                    entry_point = os.path.basename(training_script_file),\n",
    "                                    source_dir = training_script_path,\n",
    "                                    image_uri=docker_images['Inference']['image_uri'])\n",
    "\n",
    "print(f'\\nEndpoint Name: {endpoint_name}')\n",
    "    "
   ]
  },
  {
   "cell_type": "markdown",
   "metadata": {},
   "source": [
    "### Capítulo 9\n",
    "\n",
    "Obtención de predicciones\n",
    "=========================\n",
    "\n",
    "### Objetivo\n",
    "\n",
    "Obtener predicciones mediante la invocación del endpoint creado a partir del despligue del modelo realizado, con la finalidad de evaluar el desempeño del modelo"
   ]
  },
  {
   "cell_type": "markdown",
   "metadata": {},
   "source": [
    "Invocar endpoint\n",
    "================\n",
    "\n",
    "Antes de realizar las peticiones al endpoint, descargaremos de **Amazon S3** el dataset que utilizaremos para esta prueba. Para esto utilizaremos el método `S3Downloader.download` indicandole la ruta del archivo en el bucket de **Amazon S3** así como la ruta local en dónde queremos que sea descargado el archivo."
   ]
  },
  {
   "cell_type": "code",
   "execution_count": 37,
   "metadata": {},
   "outputs": [
    {
     "data": {
      "text/html": [
       "<div>\n",
       "<style scoped>\n",
       "    .dataframe tbody tr th:only-of-type {\n",
       "        vertical-align: middle;\n",
       "    }\n",
       "\n",
       "    .dataframe tbody tr th {\n",
       "        vertical-align: top;\n",
       "    }\n",
       "\n",
       "    .dataframe thead th {\n",
       "        text-align: right;\n",
       "    }\n",
       "</style>\n",
       "<table border=\"1\" class=\"dataframe\">\n",
       "  <thead>\n",
       "    <tr style=\"text-align: right;\">\n",
       "      <th></th>\n",
       "      <th>Account_Length</th>\n",
       "      <th>Int_l_Plan</th>\n",
       "      <th>VMail_Plan</th>\n",
       "      <th>VMail_Message</th>\n",
       "      <th>Day_Mins</th>\n",
       "      <th>Day_Calls</th>\n",
       "      <th>Eve_Mins</th>\n",
       "      <th>Eve_Calls</th>\n",
       "      <th>Night_Mins</th>\n",
       "      <th>Night_Calls</th>\n",
       "      <th>...</th>\n",
       "      <th>x0_UT</th>\n",
       "      <th>x0_VA</th>\n",
       "      <th>x0_VT</th>\n",
       "      <th>x0_WA</th>\n",
       "      <th>x0_WI</th>\n",
       "      <th>x0_WV</th>\n",
       "      <th>x0_WY</th>\n",
       "      <th>x1_408</th>\n",
       "      <th>x1_415</th>\n",
       "      <th>x1_510</th>\n",
       "    </tr>\n",
       "  </thead>\n",
       "  <tbody>\n",
       "    <tr>\n",
       "      <th>0</th>\n",
       "      <td>88</td>\n",
       "      <td>0</td>\n",
       "      <td>0</td>\n",
       "      <td>0</td>\n",
       "      <td>172.8</td>\n",
       "      <td>81</td>\n",
       "      <td>193.4</td>\n",
       "      <td>90</td>\n",
       "      <td>89.6</td>\n",
       "      <td>107</td>\n",
       "      <td>...</td>\n",
       "      <td>0.0</td>\n",
       "      <td>0.0</td>\n",
       "      <td>0.0</td>\n",
       "      <td>0.0</td>\n",
       "      <td>0.0</td>\n",
       "      <td>0.0</td>\n",
       "      <td>0.0</td>\n",
       "      <td>0.0</td>\n",
       "      <td>1.0</td>\n",
       "      <td>0.0</td>\n",
       "    </tr>\n",
       "    <tr>\n",
       "      <th>1</th>\n",
       "      <td>128</td>\n",
       "      <td>0</td>\n",
       "      <td>0</td>\n",
       "      <td>0</td>\n",
       "      <td>148.5</td>\n",
       "      <td>105</td>\n",
       "      <td>243.0</td>\n",
       "      <td>106</td>\n",
       "      <td>255.2</td>\n",
       "      <td>114</td>\n",
       "      <td>...</td>\n",
       "      <td>0.0</td>\n",
       "      <td>0.0</td>\n",
       "      <td>0.0</td>\n",
       "      <td>0.0</td>\n",
       "      <td>0.0</td>\n",
       "      <td>0.0</td>\n",
       "      <td>0.0</td>\n",
       "      <td>0.0</td>\n",
       "      <td>1.0</td>\n",
       "      <td>0.0</td>\n",
       "    </tr>\n",
       "    <tr>\n",
       "      <th>2</th>\n",
       "      <td>165</td>\n",
       "      <td>0</td>\n",
       "      <td>0</td>\n",
       "      <td>0</td>\n",
       "      <td>154.2</td>\n",
       "      <td>91</td>\n",
       "      <td>268.6</td>\n",
       "      <td>108</td>\n",
       "      <td>188.8</td>\n",
       "      <td>99</td>\n",
       "      <td>...</td>\n",
       "      <td>0.0</td>\n",
       "      <td>0.0</td>\n",
       "      <td>0.0</td>\n",
       "      <td>0.0</td>\n",
       "      <td>1.0</td>\n",
       "      <td>0.0</td>\n",
       "      <td>0.0</td>\n",
       "      <td>0.0</td>\n",
       "      <td>0.0</td>\n",
       "      <td>1.0</td>\n",
       "    </tr>\n",
       "    <tr>\n",
       "      <th>3</th>\n",
       "      <td>41</td>\n",
       "      <td>0</td>\n",
       "      <td>0</td>\n",
       "      <td>0</td>\n",
       "      <td>223.8</td>\n",
       "      <td>67</td>\n",
       "      <td>244.8</td>\n",
       "      <td>74</td>\n",
       "      <td>223.8</td>\n",
       "      <td>156</td>\n",
       "      <td>...</td>\n",
       "      <td>0.0</td>\n",
       "      <td>0.0</td>\n",
       "      <td>0.0</td>\n",
       "      <td>0.0</td>\n",
       "      <td>0.0</td>\n",
       "      <td>0.0</td>\n",
       "      <td>1.0</td>\n",
       "      <td>0.0</td>\n",
       "      <td>0.0</td>\n",
       "      <td>1.0</td>\n",
       "    </tr>\n",
       "    <tr>\n",
       "      <th>4</th>\n",
       "      <td>121</td>\n",
       "      <td>0</td>\n",
       "      <td>0</td>\n",
       "      <td>0</td>\n",
       "      <td>179.4</td>\n",
       "      <td>70</td>\n",
       "      <td>143.0</td>\n",
       "      <td>93</td>\n",
       "      <td>116.3</td>\n",
       "      <td>113</td>\n",
       "      <td>...</td>\n",
       "      <td>0.0</td>\n",
       "      <td>0.0</td>\n",
       "      <td>0.0</td>\n",
       "      <td>0.0</td>\n",
       "      <td>0.0</td>\n",
       "      <td>0.0</td>\n",
       "      <td>0.0</td>\n",
       "      <td>0.0</td>\n",
       "      <td>1.0</td>\n",
       "      <td>0.0</td>\n",
       "    </tr>\n",
       "  </tbody>\n",
       "</table>\n",
       "<p>5 rows × 67 columns</p>\n",
       "</div>"
      ],
      "text/plain": [
       "   Account_Length  Int_l_Plan  VMail_Plan  VMail_Message  Day_Mins  Day_Calls  \\\n",
       "0              88           0           0              0     172.8         81   \n",
       "1             128           0           0              0     148.5        105   \n",
       "2             165           0           0              0     154.2         91   \n",
       "3              41           0           0              0     223.8         67   \n",
       "4             121           0           0              0     179.4         70   \n",
       "\n",
       "   Eve_Mins  Eve_Calls  Night_Mins  Night_Calls  ...  x0_UT  x0_VA  x0_VT  \\\n",
       "0     193.4         90        89.6          107  ...    0.0    0.0    0.0   \n",
       "1     243.0        106       255.2          114  ...    0.0    0.0    0.0   \n",
       "2     268.6        108       188.8           99  ...    0.0    0.0    0.0   \n",
       "3     244.8         74       223.8          156  ...    0.0    0.0    0.0   \n",
       "4     143.0         93       116.3          113  ...    0.0    0.0    0.0   \n",
       "\n",
       "   x0_WA  x0_WI  x0_WV  x0_WY  x1_408  x1_415  x1_510  \n",
       "0    0.0    0.0    0.0    0.0     0.0     1.0     0.0  \n",
       "1    0.0    0.0    0.0    0.0     0.0     1.0     0.0  \n",
       "2    0.0    1.0    0.0    0.0     0.0     0.0     1.0  \n",
       "3    0.0    0.0    0.0    1.0     0.0     0.0     1.0  \n",
       "4    0.0    0.0    0.0    0.0     0.0     1.0     0.0  \n",
       "\n",
       "[5 rows x 67 columns]"
      ]
     },
     "execution_count": 37,
     "metadata": {},
     "output_type": "execute_result"
    }
   ],
   "source": [
    "#test_data = sagemaker_utils.read_csv(f'{sagemaker_utils.get_processor_output_path(processor, \"test_data\")}/{test_data_file}')\n",
    "#test_target = sagemaker_utils.read_csv(f'{sagemaker_utils.get_processor_output_path(processor, \"test_target\")}/{test_target_file}')\n",
    "\n",
    "test_data = sagemaker_utils.read_csv(f's3://{bucket}/{processed_data_prefix}/test_data/{test_data_file}')\n",
    "test_target = sagemaker_utils.read_csv(f's3://{bucket}/{processed_data_prefix}/test_target/{test_target_file}')\n",
    "\n",
    "test_data.head()"
   ]
  },
  {
   "cell_type": "markdown",
   "metadata": {},
   "source": [
    "Una vez que tenemos el dataset que utilizaremos para obtener predicciones del endpoint, podemos realizar peticiones a este utilizando el cliente de _runtime_ de **Amazon SageMaker** mediante el uso del SDK para Python de AWS llamado _boto3_.\n",
    "\n",
    "El código a continuación es completamente independiente y podría ser ejecutado desde cualquier otro servicio de AWS, como por ejemplo **AWS Lambda** o **Amazon EC2**. O desde la PC local, instalando previamente el SDK boto3."
   ]
  },
  {
   "cell_type": "code",
   "execution_count": 40,
   "metadata": {},
   "outputs": [],
   "source": [
    "import boto3\n",
    "import json\n",
    "\n",
    "sagemaker_runtime = boto3.client('sagemaker-runtime')\n",
    "\n",
    "request_body = json.dumps(test_data.values.tolist())\n",
    "\n",
    "response = sagemaker_runtime.invoke_endpoint(EndpointName = endpoint_name,\n",
    "                                                ContentType = 'application/json',\n",
    "                                                Body = request_body)\n",
    "\n",
    "predictions = json.loads(response['Body'].read())"
   ]
  },
  {
   "cell_type": "code",
   "execution_count": 41,
   "metadata": {},
   "outputs": [
    {
     "data": {
      "text/plain": [
       "'churn-clf-best-model-31-02'"
      ]
     },
     "execution_count": 41,
     "metadata": {},
     "output_type": "execute_result"
    }
   ],
   "source": [
    "endpoint_name"
   ]
  },
  {
   "cell_type": "markdown",
   "metadata": {},
   "source": [
    "Para ejecutar este código fuera de este Jupyter Notebook, es necesario especificar el nombre del endpoint utilizando el parámetro `EndpointName`.\n",
    "\n",
    "Una vez que hemos obtenido las predicciones utilizando el dataset, podemos comparar estas contra las etiquetas reales y medir el desempeño."
   ]
  },
  {
   "cell_type": "markdown",
   "metadata": {},
   "source": [
    "Comparar predicción vs real\n",
    "===========================\n",
    "\n",
    "Finalmente para graficar una matriz de confusión utilizando las predicciones obtenidas, podemos utilizar la misma función `plot_confusion_matrix()` del Jupyter Notebook descargado."
   ]
  },
  {
   "cell_type": "code",
   "execution_count": 42,
   "metadata": {},
   "outputs": [],
   "source": [
    "def plot_confusion_matrix(test_set, predictions, classes, title):\n",
    "    classes=np.array(classes)\n",
    "    cm = confusion_matrix(test_set, predictions)\n",
    "    \n",
    "    fig, (ax1,ax2) = plt.subplots(1,2, gridspec_kw={'width_ratios': [2, 3]})\n",
    "    im = ax1.imshow(cm, interpolation='nearest', cmap=plt.cm.Blues)\n",
    "    ax1.figure.colorbar(im, ax=ax1)\n",
    "    \n",
    "    # We want to show all ticks...\n",
    "    ax1.set(xticks=np.arange(cm.shape[1]),\n",
    "            yticks=np.arange(cm.shape[0]),\n",
    "            # ... and label them with the respective list entries\n",
    "            xticklabels=classes, yticklabels=classes,\n",
    "            title=\"Confusion Matrix\",\n",
    "            ylabel='True label',\n",
    "            xlabel='Predicted label')\n",
    "\n",
    "    # Rotate the tick labels and set their alignment.\n",
    "    plt.setp(ax1.get_yticklabels(), rotation=90, ha=\"center\", rotation_mode=\"anchor\")\n",
    "\n",
    "    # Loop over data dimensions and create text annotations.\n",
    "    thresh = cm.max() / 2.\n",
    "    for i in range(cm.shape[0]):\n",
    "        for j in range(cm.shape[1]):\n",
    "            ax1.text(j, i, format(cm[i, j], 'd'),\n",
    "                    ha=\"center\", va=\"center\",\n",
    "                    color=\"white\" if cm[i, j] > thresh else \"black\")\n",
    "    \n",
    "    tn, fp, fn, tp = cm.ravel()\n",
    "    accuracy = (tp+tn)/(tn+fp+fn+tp)\n",
    "    precision = tp/(fp+tp)\n",
    "    recall = tp/(fn+tp)\n",
    "    specifity = tn/(tn+fp)\n",
    "    \n",
    "    ax2.axis('off')\n",
    "    ax2.text(0,0.9, s='The overall model accuracy is {}% [ACCURACY]'.format(round(accuracy*100,2)), \n",
    "                size='12', ha='left', va='center')\n",
    "    \n",
    "    ax2.text(0,0.7, s='Out of the customers the model predicted as will churn, {}% will actually churn [PRECISION]'.format(round(precision*100,2)), \n",
    "                size='12', ha='left', va='center')\n",
    "    \n",
    "    ax2.text(0,0.5, s='The model will catch {}% of the customers who will actually churn [RECALL / SENSITIVITY]'.format(round(recall*100,2)), \n",
    "                size='12', ha='left', va='center')\n",
    "    \n",
    "    ax2.text(0,0.3, s='The model will catch {}% of the customers who will actually NOT churn [SPECIFITY]'.format(round(specifity*100,2)), \n",
    "                size='12', ha='left', va='center')\n",
    "    \n",
    "    fig.set_figheight(3)\n",
    "    fig.set_figwidth(16)\n",
    "    fig.suptitle(title, fontsize=16)\n",
    "    plt.show()"
   ]
  },
  {
   "cell_type": "markdown",
   "metadata": {},
   "source": [
    "Antes de poder graficar la matriz de confusión, debemos cambiar las predicciones obtenidas las cuales representan el porcentaje de probabilidad de hacer Churn, por un 0 o un 1 utilizando el umbral obtenido previamente."
   ]
  },
  {
   "cell_type": "code",
   "execution_count": 43,
   "metadata": {},
   "outputs": [],
   "source": [
    "decision_threshold = best_model_found['Threshold']\n",
    "predictions=[1 if prediction >= decision_threshold else 0 for prediction in predictions]"
   ]
  },
  {
   "cell_type": "markdown",
   "metadata": {},
   "source": [
    "Y finalmente podemos crear la matriz de confusión.\n",
    "\n",
    "Veremos un resultado similar al siguiente:\n",
    "\n",
    "![Matriz de Confusión](img/ConfusionMatrix.png?width=70pc)"
   ]
  },
  {
   "cell_type": "code",
   "execution_count": 44,
   "metadata": {},
   "outputs": [
    {
     "data": {
      "image/png": "[encoded data removed]",
      "text/plain": [
       "<Figure size 1152x216 with 3 Axes>"
      ]
     },
     "metadata": {
      "needs_background": "light"
     },
     "output_type": "display_data"
    }
   ],
   "source": [
    "labels = ['Not Churn','Churn']\n",
    "plot_confusion_matrix(test_target, predictions, labels, 'Best Model')"
   ]
  }
 ],
 "metadata": {
  "interpreter": {
   "hash": "4989b284843198940c9466d0e8ffb2ed3dc06eb1954444794d5f5c9e3a6f8233"
  },
  "kernelspec": {
   "display_name": "Python 3.8.10 ('venv': venv)",
   "language": "python",
   "name": "python3"
  },
  "language_info": {
   "codemirror_mode": {
    "name": "ipython",
    "version": 3
   },
   "file_extension": ".py",
   "mimetype": "text/x-python",
   "name": "python",
   "nbconvert_exporter": "python",
   "pygments_lexer": "ipython3",
   "version": "3.8.10"
  },
  "orig_nbformat": 4
 },
 "nbformat": 4,
 "nbformat_minor": 2
}
